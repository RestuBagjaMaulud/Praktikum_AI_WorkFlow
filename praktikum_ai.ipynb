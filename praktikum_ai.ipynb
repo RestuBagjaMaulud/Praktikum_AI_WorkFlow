{
  "nbformat": 4,
  "nbformat_minor": 0,
  "metadata": {
    "colab": {
      "provenance": []
    },
    "kernelspec": {
      "name": "python3",
      "display_name": "Python 3"
    },
    "language_info": {
      "name": "python"
    }
  },
  "cells": [
    {
      "cell_type": "code",
      "execution_count": null,
      "metadata": {
        "id": "4_AE5UpYr6J5"
      },
      "outputs": [],
      "source": []
    },
    {
      "cell_type": "code",
      "source": [
        "!pip install pandas\n"
      ],
      "metadata": {
        "colab": {
          "base_uri": "https://localhost:8080/"
        },
        "id": "ZCR8vm_or6-T",
        "outputId": "51ea13d6-7077-4343-d6b8-930f9bcfe630"
      },
      "execution_count": 1,
      "outputs": [
        {
          "output_type": "stream",
          "name": "stdout",
          "text": [
            "Requirement already satisfied: pandas in /usr/local/lib/python3.11/dist-packages (2.2.2)\n",
            "Requirement already satisfied: numpy>=1.23.2 in /usr/local/lib/python3.11/dist-packages (from pandas) (1.26.4)\n",
            "Requirement already satisfied: python-dateutil>=2.8.2 in /usr/local/lib/python3.11/dist-packages (from pandas) (2.8.2)\n",
            "Requirement already satisfied: pytz>=2020.1 in /usr/local/lib/python3.11/dist-packages (from pandas) (2025.1)\n",
            "Requirement already satisfied: tzdata>=2022.7 in /usr/local/lib/python3.11/dist-packages (from pandas) (2025.1)\n",
            "Requirement already satisfied: six>=1.5 in /usr/local/lib/python3.11/dist-packages (from python-dateutil>=2.8.2->pandas) (1.17.0)\n"
          ]
        }
      ]
    },
    {
      "cell_type": "code",
      "source": [
        "!pip install matplotlib"
      ],
      "metadata": {
        "colab": {
          "base_uri": "https://localhost:8080/"
        },
        "id": "weiQdW0osI3W",
        "outputId": "3a034273-b516-4e46-bd94-33a9b879147e"
      },
      "execution_count": 2,
      "outputs": [
        {
          "output_type": "stream",
          "name": "stdout",
          "text": [
            "Requirement already satisfied: matplotlib in /usr/local/lib/python3.11/dist-packages (3.10.0)\n",
            "Requirement already satisfied: contourpy>=1.0.1 in /usr/local/lib/python3.11/dist-packages (from matplotlib) (1.3.1)\n",
            "Requirement already satisfied: cycler>=0.10 in /usr/local/lib/python3.11/dist-packages (from matplotlib) (0.12.1)\n",
            "Requirement already satisfied: fonttools>=4.22.0 in /usr/local/lib/python3.11/dist-packages (from matplotlib) (4.56.0)\n",
            "Requirement already satisfied: kiwisolver>=1.3.1 in /usr/local/lib/python3.11/dist-packages (from matplotlib) (1.4.8)\n",
            "Requirement already satisfied: numpy>=1.23 in /usr/local/lib/python3.11/dist-packages (from matplotlib) (1.26.4)\n",
            "Requirement already satisfied: packaging>=20.0 in /usr/local/lib/python3.11/dist-packages (from matplotlib) (24.2)\n",
            "Requirement already satisfied: pillow>=8 in /usr/local/lib/python3.11/dist-packages (from matplotlib) (11.1.0)\n",
            "Requirement already satisfied: pyparsing>=2.3.1 in /usr/local/lib/python3.11/dist-packages (from matplotlib) (3.2.1)\n",
            "Requirement already satisfied: python-dateutil>=2.7 in /usr/local/lib/python3.11/dist-packages (from matplotlib) (2.8.2)\n",
            "Requirement already satisfied: six>=1.5 in /usr/local/lib/python3.11/dist-packages (from python-dateutil>=2.7->matplotlib) (1.17.0)\n"
          ]
        }
      ]
    },
    {
      "cell_type": "code",
      "source": [
        "import pandas as pd\n",
        "\n",
        "# Buat data penjualan toko\n",
        "data = {\n",
        "    \"Tanggal\": [\"2025-02-01\", \"2005-02-01\", \"2025-02-02\", \"2025-02-02\", \"2025-02-03\", \"2025-02-03\", \"2025-02-04\", \"2025-02-04\", \"2025-02-05\", \"2025-02-05\"],\n",
        "    \"Produk\": [\"Minyak Goreng\", \"Beras\", \"Gula\", \"Tepung\", \"Mie Instan\", \"Sabun\", \"Sampo\", \"Aqua\", \"Pepsodent\", \"Marjan\"],\n",
        "    \"Jumlah Terjual\": [10, 5, 7, 3, 12, 6, 15, 16, 5, 3],\n",
        "    \"Stok\": [20, 15, 8, 12, 25, 13, 30, 26, 8, 7],\n",
        "    \"Harga Satuan\": [15000, 12000, 13000, 11000, 3000, 20000, 15000, 13000, 5000, 10000],\n",
        "}\n",
        "\n",
        "# Simpan dalam DataFrame\n",
        "df = pd.DataFrame(data)\n",
        "\n",
        "# Simpan sebagai file CSV\n",
        "df.to_csv(\"data_penjualan.csv\", index=False)\n",
        "\n",
        "print(\"File CSV berhasil dibuat dan disimpan sebagai 'data penjualan.csv'!\")"
      ],
      "metadata": {
        "colab": {
          "base_uri": "https://localhost:8080/"
        },
        "id": "wjhJK2pODR1Y",
        "outputId": "b47658a2-aeab-46bc-aecd-08a03c716019"
      },
      "execution_count": 3,
      "outputs": [
        {
          "output_type": "stream",
          "name": "stdout",
          "text": [
            "File CSV berhasil dibuat dan disimpan sebagai 'data penjualan.csv'!\n"
          ]
        }
      ]
    },
    {
      "cell_type": "code",
      "source": [
        "# Membaca file CSV\n",
        "df = pd.read_csv(\"data_penjualan.csv\")\n",
        "\n",
        "# Menampilkan 10 data pertama\n",
        "print(df.head(10))"
      ],
      "metadata": {
        "colab": {
          "base_uri": "https://localhost:8080/"
        },
        "id": "GJNZ8kkYLZa_",
        "outputId": "a2062705-e04e-40a8-8ac0-94ce12462f46"
      },
      "execution_count": 6,
      "outputs": [
        {
          "output_type": "stream",
          "name": "stdout",
          "text": [
            "      Tanggal         Produk  Jumlah Terjual  Stok  Harga Satuan\n",
            "0  2025-02-01  Minyak Goreng              10    20         15000\n",
            "1  2005-02-01          Beras               5    15         12000\n",
            "2  2025-02-02           Gula               7     8         13000\n",
            "3  2025-02-02         Tepung               3    12         11000\n",
            "4  2025-02-03     Mie Instan              12    25          3000\n",
            "5  2025-02-03          Sabun               6    13         20000\n",
            "6  2025-02-04          Sampo              15    30         15000\n",
            "7  2025-02-04           Aqua              16    26         13000\n",
            "8  2025-02-05      Pepsodent               5     8          5000\n",
            "9  2025-02-05         Marjan               3     7         10000\n"
          ]
        }
      ]
    },
    {
      "cell_type": "code",
      "source": [
        "# Cek apakah ada data yang kosong\n",
        "print(df.isnull().sum())\n",
        "\n",
        "# Konversi kolom \"Tanggal\" ke formatdatetime\n",
        "df[\"Tanggal\"] = pd.to_datetime(df[\"Tanggal\"])\n",
        "\n",
        "#Tambahkan kolom \"Total Penjualan\"\n",
        "df[\"Total Penjualan\"] = df[\"Jumlah Terjual\"] * df[\"Harga Satuan\"]\n",
        "\n",
        "#Tambahkan kolom \"Keuntungan\" (asumsi modal 10.000 per produk)\n",
        "df[\"Keuntungan\"] = df[\"Total Penjualan\"] - (df[\"Jumlah Terjual\"] * 10000)\n",
        "\n",
        "#Menampilkan hasil transformasi\n",
        "print(df.head(10))\n"
      ],
      "metadata": {
        "colab": {
          "base_uri": "https://localhost:8080/"
        },
        "id": "9ZvZDXLuL2JV",
        "outputId": "bf78ee4d-a3fe-4433-e49d-3b1b1dc60979"
      },
      "execution_count": 9,
      "outputs": [
        {
          "output_type": "stream",
          "name": "stdout",
          "text": [
            "Tanggal            0\n",
            "Produk             0\n",
            "Jumlah Terjual     0\n",
            "Stok               0\n",
            "Harga Satuan       0\n",
            "Total Penjualan    0\n",
            "Keuntungan         0\n",
            "dtype: int64\n",
            "     Tanggal         Produk  Jumlah Terjual  Stok  Harga Satuan  \\\n",
            "0 2025-02-01  Minyak Goreng              10    20         15000   \n",
            "1 2005-02-01          Beras               5    15         12000   \n",
            "2 2025-02-02           Gula               7     8         13000   \n",
            "3 2025-02-02         Tepung               3    12         11000   \n",
            "4 2025-02-03     Mie Instan              12    25          3000   \n",
            "5 2025-02-03          Sabun               6    13         20000   \n",
            "6 2025-02-04          Sampo              15    30         15000   \n",
            "7 2025-02-04           Aqua              16    26         13000   \n",
            "8 2025-02-05      Pepsodent               5     8          5000   \n",
            "9 2025-02-05         Marjan               3     7         10000   \n",
            "\n",
            "   Total Penjualan  Keuntungan  \n",
            "0           150000       50000  \n",
            "1            60000       10000  \n",
            "2            91000       21000  \n",
            "3            33000        3000  \n",
            "4            36000      -84000  \n",
            "5           120000       60000  \n",
            "6           225000       75000  \n",
            "7           208000       48000  \n",
            "8            25000      -25000  \n",
            "9            30000           0  \n"
          ]
        }
      ]
    },
    {
      "cell_type": "code",
      "source": [
        "!pip install scikit-learn"
      ],
      "metadata": {
        "colab": {
          "base_uri": "https://localhost:8080/"
        },
        "id": "YvLOnbljQz8o",
        "outputId": "913e7ac0-3641-4f2e-b14d-0cf9bf626910"
      },
      "execution_count": 8,
      "outputs": [
        {
          "output_type": "stream",
          "name": "stdout",
          "text": [
            "Requirement already satisfied: scikit-learn in /usr/local/lib/python3.11/dist-packages (1.6.1)\n",
            "Requirement already satisfied: numpy>=1.19.5 in /usr/local/lib/python3.11/dist-packages (from scikit-learn) (1.26.4)\n",
            "Requirement already satisfied: scipy>=1.6.0 in /usr/local/lib/python3.11/dist-packages (from scikit-learn) (1.13.1)\n",
            "Requirement already satisfied: joblib>=1.2.0 in /usr/local/lib/python3.11/dist-packages (from scikit-learn) (1.4.2)\n",
            "Requirement already satisfied: threadpoolctl>=3.1.0 in /usr/local/lib/python3.11/dist-packages (from scikit-learn) (3.5.0)\n"
          ]
        }
      ]
    },
    {
      "cell_type": "code",
      "source": [
        "from sklearn.model_selection import train_test_split\n",
        "from sklearn.tree import DecisionTreeClassifier\n",
        "from sklearn.metrics import accuracy_score\n",
        "\n",
        "# Pilih fitur (X) dan target (y)\n",
        "X = df[[\"Jumlah Terjual\", \"Stok\"]]\n",
        "y = (df[\"Stok\"] < 5).astype(int) # 1 jika stok kurang dari 5, 0 jika cukup\n",
        "\n",
        "# Split data menjadi train dan test\n",
        "X_train, x_test, y_train, y_test = train_test_split(X, y, test_size=0.2, random_state=42)\n",
        "\n",
        "#Buat model Decision Tree\n",
        "model = DecisionTreeClassifier()\n",
        "model.fit(X_train, y_train)\n",
        "\n",
        "#Evaluasi model\n",
        "y_pred = model.predict(x_test)\n",
        "print(\"Akurasi Model:\", accuracy_score(y_test, y_pred))"
      ],
      "metadata": {
        "colab": {
          "base_uri": "https://localhost:8080/"
        },
        "id": "ALlh0WKmRFCM",
        "outputId": "dfd74765-09b6-4dfb-8fdd-057d5d4a4a40"
      },
      "execution_count": 11,
      "outputs": [
        {
          "output_type": "stream",
          "name": "stdout",
          "text": [
            "Akurasi Model: 1.0\n"
          ]
        }
      ]
    },
    {
      "cell_type": "code",
      "source": [
        "# Contoh produk baru (jumlah terjual 8, stok tersisa 3)\n",
        "produk_baru = [[8, 3]]\n",
        "prediksi = model.predict(produk_baru)\n",
        "\n",
        "if prediksi [0] == 1:\n",
        "    print(\"Produk perlu di-restock!\")\n",
        "else:\n",
        "    print(\"Stok masih cukup.\")"
      ],
      "metadata": {
        "colab": {
          "base_uri": "https://localhost:8080/"
        },
        "id": "aotO8mOlSTZz",
        "outputId": "668cf259-afec-407a-eb53-7448614c2e24"
      },
      "execution_count": 14,
      "outputs": [
        {
          "output_type": "stream",
          "name": "stdout",
          "text": [
            "Stok masih cukup.\n"
          ]
        },
        {
          "output_type": "stream",
          "name": "stderr",
          "text": [
            "/usr/local/lib/python3.11/dist-packages/sklearn/utils/validation.py:2739: UserWarning: X does not have valid feature names, but DecisionTreeClassifier was fitted with feature names\n",
            "  warnings.warn(\n"
          ]
        }
      ]
    },
    {
      "cell_type": "code",
      "source": [
        "import matplotlib.pyplot as plt\n",
        "\n",
        "plt.scatter(df [\"Jumlah Terjual\"], df[\"Stok\"], c=df[\"Keuntungan\"], cmap=\"coolwarm\")\n",
        "plt.xlabel(\"Jumlah Terjual\")\n",
        "plt.ylabel(\"Stok\")\n",
        "plt.title(\"Analisis Penjualan dan Stok\")\n",
        "plt.colorbar (label=\"Keuntungan\")\n",
        "plt.show()"
      ],
      "metadata": {
        "colab": {
          "base_uri": "https://localhost:8080/",
          "height": 472
        },
        "id": "CEzWLFB8SfSr",
        "outputId": "6875cb36-4852-4fce-e5ef-f425426f75fc"
      },
      "execution_count": 19,
      "outputs": [
        {
          "output_type": "display_data",
          "data": {
            "text/plain": [
              "<Figure size 640x480 with 2 Axes>"
            ],
            "image/png": "[encoded data removed]"
          },
          "metadata": {}
        }
      ]
    }
  ]
}